{
  "nbformat": 4,
  "nbformat_minor": 0,
  "metadata": {
    "colab": {
      "name": "07_19101100_MarshiaNujhat.ipynb",
      "provenance": [],
      "collapsed_sections": []
    },
    "kernelspec": {
      "name": "python3",
      "display_name": "Python 3"
    },
    "language_info": {
      "name": "python"
    }
  },
  "cells": [
    {
      "cell_type": "markdown",
      "metadata": {
        "id": "f1FjO4msJB-I"
      },
      "source": [
        "**Task1_19101100**"
      ]
    },
    {
      "cell_type": "code",
      "metadata": {
        "colab": {
          "base_uri": "https://localhost:8080/"
        },
        "id": "QLcLQMUMJDCA",
        "outputId": "7a5bde74-2fda-4b94-ccb5-0cf2341f4076"
      },
      "source": [
        "input_graph=[]\n",
        "\n",
        "with open ('/content/sample_data/Question1_input 2.txt') as input1_a1:\n",
        "  file1=input1_a1.readlines()\n",
        "for line in file1:\n",
        "  l=line.split()\n",
        "  input_graph.append(l)                                                                                                                                                                                                     \n",
        "# print(input_graph)\n",
        "\n",
        "x_dimentions=[0,1]                                                                                                          #defining steps we need to move to horizontally/diagonally\n",
        "y_dimentions=[1,0,-1]                                                                                                       #defining steps we need to move to vertically/diagonally\n",
        "#dimentions=[[0,1],[0,-1],[1,1],[1,0],[1,-1]]\n",
        "max_region_count=[]                                                                                                         #stores count of no of infected people in all regions\n",
        "\n",
        "\n",
        "def find_max_infected_region(row, column,count_infected):                                                                   #finds max no of people infected \n",
        "  \n",
        "  # print(\"current row and column:\",row,column)\n",
        "  # print(\"node then:\",input_graph[row][column])\n",
        "  if column<=len(input_graph[0])-1 and row<=len(input_graph)-1 and column>=0:                                               #limit set so that the 'Y' we find is not out of the range of the matrix\n",
        "    if input_graph[row][column] == \"Y\":\n",
        "      input_graph[row][column]=\"Visited\"                                                                                    #turn Y to Visited if index visited.\n",
        "      # print(\"count now:\",count_infected)\n",
        "\n",
        "  if count_infected>=6:\n",
        "    count_infected+=1\n",
        "  for step1 in x_dimentions:\n",
        "    for step2 in y_dimentions:\n",
        "      if column+step2<=len(input_graph[0])-1 and row+step1<=len(input_graph)-1 and column+step2>=0 and row+step1>=0:        #limit set so that next step we move to is not out of the range of the matrix\n",
        "        if(input_graph[row+step1][column+step2]!=input_graph[row][column] and input_graph[row+step1][column+step2]==\"Y\"):   #makes sure the next index has Y and that it is not calculating for the current index where we got Y\n",
        "          count_infected+=1                                                                                                 #infected++ if in next travelled index, Y is found.\n",
        "          find_max_infected_region(row+step1,column+step2,count_infected)                                                   #recurssive call to find Y for the next indexes to traverse from current Y \n",
        "\n",
        "  max_region_count.append(count_infected)                                                                                   #total number of Y in a region found. So number added to list\n",
        "  # print(count_infected)\n",
        "\n",
        "count=0\n",
        "for row in range(len(input_graph)):\n",
        "  for col in range(len(input_graph[0])):\n",
        "    # print(input_graph[row][col],end=\",\")\n",
        "    if(input_graph[row][col]==\"Y\"):\n",
        "      find_max_infected_region(row,col,count+1)                                                                             #after an index with Y found, calls find_max_infected_region function to find max infected region         \n",
        "\n",
        "\n",
        "# print(max_region_count)\n",
        "print(max(max_region_count))                                                                                                #max value from the list of number of infected people in all regions printed\n",
        "  "
      ],
      "execution_count": 32,
      "outputs": [
        {
          "output_type": "stream",
          "name": "stdout",
          "text": [
            "5\n"
          ]
        }
      ]
    },
    {
      "cell_type": "markdown",
      "metadata": {
        "id": "Tv6EkANwFTS7"
      },
      "source": [
        "**Task2_19101100**"
      ]
    },
    {
      "cell_type": "code",
      "metadata": {
        "colab": {
          "base_uri": "https://localhost:8080/"
        },
        "id": "Sc9UEg7tFcub",
        "outputId": "10c9078e-8806-46ac-f313-d6635f816971"
      },
      "source": [
        "xcity_grid=[]\n",
        "\n",
        "with open ('/content/sample_data/Question2 input1.txt') as input2_a1:\n",
        "  row_num=input2_a1.readline()\n",
        "  column_num=input2_a1.readline()\n",
        "  file1=input2_a1.readlines()\n",
        "# print(row_num)\n",
        "# print(column_num)\n",
        "for line in file1:\n",
        "  l=line.split()\n",
        "  xcity_grid.append(l)\n",
        "# print(xcity_grid)\n",
        "\n",
        "alien_position=[]\n",
        "time=0 \n",
        "\n",
        "def find_humans():                                                                                                     #function to find total number of humans initially\n",
        "  humans_num=0\n",
        "  for row in range(len(xcity_grid)):\n",
        "      for column in range(len(xcity_grid[0])):\n",
        "        if xcity_grid[row][column]=='H':\n",
        "          humans_num+=1\n",
        "  return humans_num\n",
        "\n",
        "def find_alien(humans, xcity_grid,step):\n",
        "    # print(\"humans\",humans)\n",
        "    for row in range(len(xcity_grid)):\n",
        "      for column in range(len(xcity_grid[0])):\n",
        "        if xcity_grid[row][column]=='A':\n",
        "          list_position=[row,column]                                                                                    #calculates position of alien when it is found\n",
        "          if list_position not in alien_position:                                                                       #if newly calculated aliens position already not in list of all aliens position, added to list\n",
        "            alien_position.append(list_position)\n",
        "    if step<4:                                                                                    \n",
        "        alien_attack(humans,alien_position,step)                                                                        #alien attack called to turn surrounding horizontal/vertical humans to aliens\n",
        "    else:\n",
        "        print(\"Time\",step,\"minutes\")\n",
        "        if humans==0:\n",
        "          print(\"No one survived\")\n",
        "        else:\n",
        "          print(f'{num_humans-(num_humans-humans)} survived')                                                           #surviving number of humans calculated. num_humans=total humans initially. num_humans-humans=humans who turned aliens. \n",
        "        pass                                                                                                            #so remaining humans=total humans-humans who turned into aliens. pass when result found\n",
        "# print(alien_position)\n",
        "\n",
        "x_dimentions=[0,1,-1]                                                                                                   #defining steps we need to move to horizontally                                                                                                            \n",
        "y_dimentions=[1,0,-1]                                                                                                   #defining steps we need to move to vertically\n",
        "\n",
        "\n",
        "def alien_attack(humans,aliens,step):\n",
        "  # print(humans)\n",
        "  # print(aliens)\n",
        "  for x in range(len(aliens)):\n",
        "    row=aliens[x][0]                                                                                                    #first index of each list in aliens i.e. alien_position list=row no of current alien\n",
        "    column=aliens[x][1]                                                                                                 #second index of each list in aliens i.e. alien_position list=column no of current alien\n",
        "    for step1 in x_dimentions:\n",
        "      for step2 in y_dimentions:\n",
        "        if (step1==0 and step2==1) or (step1==0 and step2==-1) or (step1==1 and step2==0) or (step1==-1 and step2==0):  #moves only when grid is vertical or horizontal so condition given to ensure that\n",
        "          if column+step2<=len(xcity_grid[0])-1 and row+step1<=len(xcity_grid)-1 and column+step2>=0 and row+step1>=0:  #limit set so that next step we move to is not out of the range of the matrix\n",
        "            if(xcity_grid[row+step1][column+step2]==\"H\"):\n",
        "              xcity_grid[row+step1][column+step2]=\"A\"                                                                   #human turned to alien if found horizontally or vertically to an alien\n",
        "              humans-=1                                                                                                 #one less human each time human turns to alien\n",
        "              # print(humans)\n",
        "  # print(xcity_grid)\n",
        "  step+=1                                                                                                               #increased level/step/time after each attack by aliens\n",
        "  # print(step)\n",
        "  find_alien(humans,xcity_grid,step)                                                                                    #recurssion call to find positions of all current aliens again\n",
        "\n",
        "  \n",
        "\n",
        "num_humans=find_humans()                                                                                                #stores total number of humans\n",
        "# print(num_humans)\n",
        "find_alien(num_humans, xcity_grid,time)                                                                                 #calls function to find positions of all current aliens\n",
        "\n",
        "# print(xcity_grid)\n",
        "\n"
      ],
      "execution_count": 31,
      "outputs": [
        {
          "output_type": "stream",
          "name": "stdout",
          "text": [
            "Time 4 minutes\n",
            "No one survived\n"
          ]
        }
      ]
    }
  ]
}